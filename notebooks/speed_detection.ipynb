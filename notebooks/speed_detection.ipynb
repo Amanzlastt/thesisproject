{
  "cells": [
    {
      "cell_type": "markdown",
      "metadata": {
        "id": "vXoGDPC8xYRk"
      },
      "source": [
        "Speed Detection and Car tracking"
      ]
    },
    {
      "cell_type": "code",
      "execution_count": 1,
      "metadata": {
        "colab": {
          "base_uri": "https://localhost:8080/"
        },
        "id": "eaQBN2aKxYRn",
        "outputId": "7776d265-93c5-4155-f01d-69c63e23dfaf"
      },
      "outputs": [],
      "source": [
        "import sys\n",
        "import os\n",
        "sys.path.append(os.path.abspath(\"../src\"))\n",
        "\n",
        "try :\n",
        "    from tracker import *\n",
        "except ImportError :\n",
        "    print('Import not done')"
      ]
    },
    {
      "cell_type": "code",
      "execution_count": 2,
      "metadata": {
        "id": "g1t15XsBxYRo"
      },
      "outputs": [],
      "source": [
        "import ultralytics\n",
        "import cv2\n",
        "import pandas as pd\n",
        "from ultralytics import YOLO\n"
      ]
    },
    {
      "cell_type": "code",
      "execution_count": 3,
      "metadata": {
        "id": "i9KSE_W_xYRq"
      },
      "outputs": [],
      "source": [
        "model = YOLO('yolov8s.pt')"
      ]
    },
    {
      "cell_type": "code",
      "execution_count": 4,
      "metadata": {
        "id": "gqB3Oy9GxYRr"
      },
      "outputs": [],
      "source": [
        "class_list = ['person', 'bicycle', 'car','motorcycle', 'airplane', 'bus',\n",
        "              'train', 'truck', 'traffic light']\n",
        "\n",
        "# class_list = ['car','truck']"
      ]
    },
    {
      "cell_type": "code",
      "execution_count": 5,
      "metadata": {
        "id": "LGO51nCCxYRs"
      },
      "outputs": [],
      "source": [
        "tracker = Tracker()\n",
        "count = 0"
      ]
    },
    {
      "cell_type": "code",
      "execution_count": 6,
      "metadata": {},
      "outputs": [],
      "source": [
        "down = {}"
      ]
    },
    {
      "cell_type": "code",
      "execution_count": 7,
      "metadata": {
        "id": "dRqcnuIFxYRs"
      },
      "outputs": [],
      "source": [
        "cap = cv2.VideoCapture('C:\\\\Users\\\\Aman\\\\Desktop\\\\thesisproject\\\\video\\\\highway (1).mp4')"
      ]
    },
    {
      "cell_type": "code",
      "execution_count": null,
      "metadata": {},
      "outputs": [
        {
          "name": "stdout",
          "output_type": "stream",
          "text": [
            "\n",
            "0: 320x640 8 cars, 2 trucks, 2483.0ms\n",
            "Speed: 381.6ms preprocess, 2483.0ms inference, 185.3ms postprocess per image at shape (1, 3, 320, 640)\n",
            "\n",
            "0: 320x640 8 cars, 2 trucks, 352.5ms\n",
            "Speed: 9.3ms preprocess, 352.5ms inference, 29.9ms postprocess per image at shape (1, 3, 320, 640)\n",
            "\n",
            "0: 320x640 7 cars, 2 trucks, 370.2ms\n",
            "Speed: 2.0ms preprocess, 370.2ms inference, 1.0ms postprocess per image at shape (1, 3, 320, 640)\n",
            "\n",
            "0: 320x640 6 cars, 2 trucks, 474.0ms\n",
            "Speed: 43.4ms preprocess, 474.0ms inference, 0.0ms postprocess per image at shape (1, 3, 320, 640)\n",
            "\n",
            "0: 320x640 8 cars, 2 trucks, 413.9ms\n",
            "Speed: 0.0ms preprocess, 413.9ms inference, 7.6ms postprocess per image at shape (1, 3, 320, 640)\n",
            "\n",
            "0: 320x640 8 cars, 2 trucks, 348.2ms\n",
            "Speed: 11.5ms preprocess, 348.2ms inference, 0.0ms postprocess per image at shape (1, 3, 320, 640)\n",
            "\n",
            "0: 320x640 8 cars, 2 trucks, 336.5ms\n",
            "Speed: 4.4ms preprocess, 336.5ms inference, 0.0ms postprocess per image at shape (1, 3, 320, 640)\n",
            "\n",
            "0: 320x640 8 cars, 2 trucks, 368.7ms\n",
            "Speed: 2.0ms preprocess, 368.7ms inference, 3.0ms postprocess per image at shape (1, 3, 320, 640)\n",
            "\n",
            "0: 320x640 7 cars, 2 trucks, 393.5ms\n",
            "Speed: 4.6ms preprocess, 393.5ms inference, 0.0ms postprocess per image at shape (1, 3, 320, 640)\n",
            "\n",
            "0: 320x640 7 cars, 2 trucks, 368.7ms\n",
            "Speed: 2.2ms preprocess, 368.7ms inference, 0.0ms postprocess per image at shape (1, 3, 320, 640)\n",
            "\n",
            "0: 320x640 8 cars, 2 trucks, 358.0ms\n",
            "Speed: 2.4ms preprocess, 358.0ms inference, 0.0ms postprocess per image at shape (1, 3, 320, 640)\n",
            "\n",
            "0: 320x640 10 cars, 1 truck, 361.5ms\n",
            "Speed: 2.0ms preprocess, 361.5ms inference, 0.0ms postprocess per image at shape (1, 3, 320, 640)\n",
            "\n",
            "0: 320x640 9 cars, 1 truck, 342.8ms\n",
            "Speed: 5.2ms preprocess, 342.8ms inference, 0.0ms postprocess per image at shape (1, 3, 320, 640)\n",
            "\n",
            "0: 320x640 9 cars, 1 truck, 378.2ms\n",
            "Speed: 4.1ms preprocess, 378.2ms inference, 0.0ms postprocess per image at shape (1, 3, 320, 640)\n",
            "\n",
            "0: 320x640 9 cars, 2 trucks, 336.0ms\n",
            "Speed: 3.0ms preprocess, 336.0ms inference, 10.9ms postprocess per image at shape (1, 3, 320, 640)\n",
            "\n",
            "0: 320x640 9 cars, 2 trucks, 370.9ms\n",
            "Speed: 3.0ms preprocess, 370.9ms inference, 3.0ms postprocess per image at shape (1, 3, 320, 640)\n",
            "\n",
            "0: 320x640 9 cars, 3 trucks, 364.7ms\n",
            "Speed: 5.1ms preprocess, 364.7ms inference, 3.0ms postprocess per image at shape (1, 3, 320, 640)\n",
            "\n",
            "0: 320x640 9 cars, 1 truck, 338.3ms\n",
            "Speed: 4.7ms preprocess, 338.3ms inference, 0.0ms postprocess per image at shape (1, 3, 320, 640)\n",
            "\n",
            "0: 320x640 8 cars, 1 truck, 374.6ms\n",
            "Speed: 2.2ms preprocess, 374.6ms inference, 0.0ms postprocess per image at shape (1, 3, 320, 640)\n",
            "\n",
            "0: 320x640 9 cars, 1 truck, 319.8ms\n",
            "Speed: 5.0ms preprocess, 319.8ms inference, 0.0ms postprocess per image at shape (1, 3, 320, 640)\n",
            "\n",
            "0: 320x640 9 cars, 2 trucks, 332.9ms\n",
            "Speed: 5.8ms preprocess, 332.9ms inference, 1.5ms postprocess per image at shape (1, 3, 320, 640)\n",
            "\n",
            "0: 320x640 9 cars, 2 trucks, 322.2ms\n",
            "Speed: 1.5ms preprocess, 322.2ms inference, 1.0ms postprocess per image at shape (1, 3, 320, 640)\n",
            "\n",
            "0: 320x640 10 cars, 1 truck, 428.8ms\n",
            "Speed: 39.8ms preprocess, 428.8ms inference, 0.0ms postprocess per image at shape (1, 3, 320, 640)\n",
            "\n",
            "0: 320x640 10 cars, 2 trucks, 361.8ms\n",
            "Speed: 2.4ms preprocess, 361.8ms inference, 0.0ms postprocess per image at shape (1, 3, 320, 640)\n",
            "\n",
            "0: 320x640 9 cars, 3 trucks, 329.2ms\n",
            "Speed: 4.5ms preprocess, 329.2ms inference, 0.0ms postprocess per image at shape (1, 3, 320, 640)\n",
            "\n",
            "0: 320x640 9 cars, 2 trucks, 331.2ms\n",
            "Speed: 2.0ms preprocess, 331.2ms inference, 0.0ms postprocess per image at shape (1, 3, 320, 640)\n",
            "\n",
            "0: 320x640 9 cars, 3 trucks, 318.9ms\n",
            "Speed: 4.8ms preprocess, 318.9ms inference, 0.0ms postprocess per image at shape (1, 3, 320, 640)\n",
            "\n",
            "0: 320x640 9 cars, 3 trucks, 336.1ms\n",
            "Speed: 4.2ms preprocess, 336.1ms inference, 0.0ms postprocess per image at shape (1, 3, 320, 640)\n",
            "\n",
            "0: 320x640 9 cars, 3 trucks, 346.1ms\n",
            "Speed: 4.7ms preprocess, 346.1ms inference, 0.0ms postprocess per image at shape (1, 3, 320, 640)\n",
            "\n",
            "0: 320x640 9 cars, 2 trucks, 378.4ms\n",
            "Speed: 5.2ms preprocess, 378.4ms inference, 2.6ms postprocess per image at shape (1, 3, 320, 640)\n",
            "\n",
            "0: 320x640 9 cars, 1 truck, 330.3ms\n",
            "Speed: 4.3ms preprocess, 330.3ms inference, 0.0ms postprocess per image at shape (1, 3, 320, 640)\n",
            "\n",
            "0: 320x640 9 cars, 2 trucks, 334.5ms\n",
            "Speed: 7.8ms preprocess, 334.5ms inference, 0.0ms postprocess per image at shape (1, 3, 320, 640)\n",
            "\n",
            "0: 320x640 9 cars, 1 truck, 315.6ms\n",
            "Speed: 5.8ms preprocess, 315.6ms inference, 1.6ms postprocess per image at shape (1, 3, 320, 640)\n",
            "\n",
            "0: 320x640 9 cars, 2 trucks, 329.7ms\n",
            "Speed: 3.0ms preprocess, 329.7ms inference, 8.5ms postprocess per image at shape (1, 3, 320, 640)\n",
            "\n",
            "0: 320x640 9 cars, 2 trucks, 373.6ms\n",
            "Speed: 4.6ms preprocess, 373.6ms inference, 3.2ms postprocess per image at shape (1, 3, 320, 640)\n",
            "\n",
            "0: 320x640 9 cars, 2 trucks, 329.7ms\n",
            "Speed: 5.8ms preprocess, 329.7ms inference, 0.0ms postprocess per image at shape (1, 3, 320, 640)\n",
            "\n",
            "0: 320x640 9 cars, 3 trucks, 330.6ms\n",
            "Speed: 2.3ms preprocess, 330.6ms inference, 0.0ms postprocess per image at shape (1, 3, 320, 640)\n",
            "\n",
            "0: 320x640 9 cars, 2 trucks, 313.3ms\n",
            "Speed: 5.6ms preprocess, 313.3ms inference, 0.0ms postprocess per image at shape (1, 3, 320, 640)\n",
            "\n",
            "0: 320x640 10 cars, 2 trucks, 350.0ms\n",
            "Speed: 4.5ms preprocess, 350.0ms inference, 0.0ms postprocess per image at shape (1, 3, 320, 640)\n",
            "\n",
            "0: 320x640 10 cars, 2 trucks, 381.4ms\n",
            "Speed: 3.1ms preprocess, 381.4ms inference, 2.9ms postprocess per image at shape (1, 3, 320, 640)\n",
            "\n",
            "0: 320x640 10 cars, 2 trucks, 378.6ms\n",
            "Speed: 5.6ms preprocess, 378.6ms inference, 0.0ms postprocess per image at shape (1, 3, 320, 640)\n",
            "\n",
            "0: 320x640 10 cars, 1 truck, 353.8ms\n",
            "Speed: 5.2ms preprocess, 353.8ms inference, 0.0ms postprocess per image at shape (1, 3, 320, 640)\n",
            "\n",
            "0: 320x640 11 cars, 1 truck, 331.2ms\n",
            "Speed: 1.8ms preprocess, 331.2ms inference, 0.0ms postprocess per image at shape (1, 3, 320, 640)\n",
            "\n",
            "0: 320x640 11 cars, 1 truck, 330.2ms\n",
            "Speed: 1.0ms preprocess, 330.2ms inference, 3.2ms postprocess per image at shape (1, 3, 320, 640)\n",
            "\n",
            "0: 320x640 10 cars, 1 truck, 330.2ms\n",
            "Speed: 4.2ms preprocess, 330.2ms inference, 0.0ms postprocess per image at shape (1, 3, 320, 640)\n",
            "\n",
            "0: 320x640 11 cars, 1 truck, 396.4ms\n",
            "Speed: 4.7ms preprocess, 396.4ms inference, 0.0ms postprocess per image at shape (1, 3, 320, 640)\n",
            "\n",
            "0: 320x640 11 cars, 1 truck, 1 bench, 656.0ms\n",
            "Speed: 2.0ms preprocess, 656.0ms inference, 0.0ms postprocess per image at shape (1, 3, 320, 640)\n"
          ]
        },
        {
          "ename": "IndexError",
          "evalue": "list index out of range",
          "output_type": "error",
          "traceback": [
            "\u001b[1;31m---------------------------------------------------------------------------\u001b[0m",
            "\u001b[1;31mIndexError\u001b[0m                                Traceback (most recent call last)",
            "Cell \u001b[1;32mIn[8], line 27\u001b[0m\n\u001b[0;32m     25\u001b[0m y2 \u001b[38;5;241m=\u001b[39m \u001b[38;5;28mint\u001b[39m(row[\u001b[38;5;241m3\u001b[39m])\n\u001b[0;32m     26\u001b[0m d \u001b[38;5;241m=\u001b[39m \u001b[38;5;28mint\u001b[39m(row[\u001b[38;5;241m5\u001b[39m])\n\u001b[1;32m---> 27\u001b[0m c \u001b[38;5;241m=\u001b[39m \u001b[43mclass_list\u001b[49m\u001b[43m[\u001b[49m\u001b[43md\u001b[49m\u001b[43m]\u001b[49m\n\u001b[0;32m     28\u001b[0m \u001b[38;5;28;01mif\u001b[39;00m \u001b[38;5;124m'\u001b[39m\u001b[38;5;124mcar\u001b[39m\u001b[38;5;124m'\u001b[39m \u001b[38;5;129;01min\u001b[39;00m c:\n\u001b[0;32m     29\u001b[0m     \u001b[38;5;28mlist\u001b[39m\u001b[38;5;241m.\u001b[39mappend([x1, y1, x2, y2])\n",
            "\u001b[1;31mIndexError\u001b[0m: list index out of range"
          ]
        },
        {
          "ename": "",
          "evalue": "",
          "output_type": "error",
          "traceback": [
            "\u001b[1;31mThe Kernel crashed while executing code in the current cell or a previous cell. \n",
            "\u001b[1;31mPlease review the code in the cell(s) to identify a possible cause of the failure. \n",
            "\u001b[1;31mClick <a href='https://aka.ms/vscodeJupyterKernelCrash'>here</a> for more info. \n",
            "\u001b[1;31mView Jupyter <a href='command:jupyter.viewOutput'>log</a> for further details."
          ]
        }
      ],
      "source": [
        "# Open the video file\n",
        "cap = cv2.VideoCapture('C:\\\\Users\\\\Aman\\\\Desktop\\\\thesisproject\\\\video\\\\highway (1).mp4')\n",
        "\n",
        "# Get the frames per second (FPS) of the video\n",
        "fps = cap.get(cv2.CAP_PROP_FPS)\n",
        "\n",
        "while True:\n",
        "    ret, frame = cap.read()\n",
        "    if not ret:\n",
        "        break\n",
        "    count += 1\n",
        "    frame = cv2.resize(frame, (1020, 500))\n",
        "\n",
        "    result = model.predict(frame)\n",
        "    a = result[0].boxes.data\n",
        "    a = a.detach().cpu().numpy()\n",
        "    px = pd.DataFrame(a).astype(\"float\")\n",
        "\n",
        "    list = []\n",
        "\n",
        "    for index, row in px.iterrows():\n",
        "        x1 = int(row[0])\n",
        "        x2 = int(row[2])\n",
        "        y1 = int(row[1])\n",
        "        y2 = int(row[3])\n",
        "        d = int(row[5])\n",
        "        c = class_list[d]\n",
        "        if 'car' in c:\n",
        "            list.append([x1, y1, x2, y2])\n",
        "\n",
        "    bbox_id = tracker.update(list)\n",
        "\n",
        "    for bbox in bbox_id:\n",
        "        x3, y3, x4, y4, id = bbox\n",
        "        cx = int(x3 + x4) // 2\n",
        "        cy = int(y3 + y4) // 2\n",
        "\n",
        "        red_line_y = 198\n",
        "        blue_line_y = 268\n",
        "        offset = 7\n",
        "\n",
        "        # Condition for red line\n",
        "        if red_line_y < (cy + offset) and red_line_y > (cy - offset):\n",
        "            down[id] = cy\n",
        "            if id in down:\n",
        "                cv2.circle(frame, (cx, cy), 4, (0, 0, 255), -1)\n",
        "                cv2.putText(frame, str(id), (cx, cy), cv2.FONT_HERSHEY_COMPLEX, 0.8, (0, 255, 255), 2)\n",
        "        \n",
        "\n",
        "    text_color = (255, 255, 255)\n",
        "    red_color = (0, 0, 255)\n",
        "    blue_color = (255, 0, 0)\n",
        "    green_color = (0, 255, 0)\n",
        "\n",
        "    cv2.line(frame, (172, 198), (774, 198), red_color, 3)\n",
        "    cv2.putText(frame, ('red line'), (172, 198), cv2.FONT_HERSHEY_SIMPLEX, 0.5, text_color, 1, cv2.LINE_AA)\n",
        "\n",
        "    cv2.line(frame, (8, 268), (927, 268), blue_color, 3)\n",
        "    cv2.putText(frame, ('blue line'), (8, 268), cv2.FONT_HERSHEY_SIMPLEX, 0.5, text_color, 1, cv2.LINE_AA)\n",
        "\n",
        "    # Show the frame\n",
        "    cv2.imshow('frames', frame)\n",
        "\n",
        "    # Wait for the appropriate time based on FPS (frame delay in milliseconds)\n",
        "    delay = int(1000 / fps)  # Delay per frame in milliseconds\n",
        "    if cv2.waitKey(delay) & 0xFF == 27:  # ESC key to exit\n",
        "        break\n",
        "\n",
        "cap.release()\n",
        "cv2.destroyAllWindows()\n"
      ]
    },
    {
      "cell_type": "code",
      "execution_count": null,
      "metadata": {},
      "outputs": [],
      "source": []
    }
  ],
  "metadata": {
    "colab": {
      "provenance": []
    },
    "kernelspec": {
      "display_name": ".venv",
      "language": "python",
      "name": "python3"
    },
    "language_info": {
      "codemirror_mode": {
        "name": "ipython",
        "version": 3
      },
      "file_extension": ".py",
      "mimetype": "text/x-python",
      "name": "python",
      "nbconvert_exporter": "python",
      "pygments_lexer": "ipython3",
      "version": "3.11.9"
    }
  },
  "nbformat": 4,
  "nbformat_minor": 0
}
